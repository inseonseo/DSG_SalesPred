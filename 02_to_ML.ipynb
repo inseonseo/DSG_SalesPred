{
 "cells": [
  {
   "cell_type": "markdown",
   "id": "97280dc9",
   "metadata": {},
   "source": [
    "# __!!주의!!__\n",
    "to_EDA_PGR.ipynb 노트북을 돌려서 얻은 결과물인 'df_base_pre.csv', 'df_pre.csv' 파일을 사용합니다.  \n",
    "먼저 to_EDA_PGR.ipynb를 실행한 뒤 이 노트북을 실행하세요."
   ]
  },
  {
   "cell_type": "markdown",
   "id": "96ce30c9",
   "metadata": {},
   "source": [
    " "
   ]
  },
  {
   "cell_type": "markdown",
   "id": "2ea9c17d",
   "metadata": {},
   "source": [
    "# Machine learning"
   ]
  },
  {
   "cell_type": "code",
   "execution_count": null,
   "id": "3ac2f5f0",
   "metadata": {},
   "outputs": [],
   "source": [
    "import numpy as np\n",
    "import pandas as pd\n",
    "\n",
    "from sklearn.model_selection import train_test_split\n",
    "from sklearn.linear_model import LinearRegression\n",
    "model_lr = LinearRegression()\n",
    "\n",
    "from sklearn.linear_model import Ridge\n",
    "model_rg = Ridge()\n",
    "\n",
    "from sklearn.linear_model import Lasso\n",
    "model_ls = Lasso()\n",
    "\n",
    "from sklearn.linear_model import ElasticNet\n",
    "model_en = ElasticNet(alpha=1)\n",
    "\n",
    "from sklearn.ensemble import RandomForestRegressor\n",
    "model_rf = RandomForestRegressor()\n",
    "\n",
    "from xgboost import XGBRegressor\n",
    "model_xg = XGBRegressor()\n",
    "\n",
    "from sklearn.metrics import mean_squared_error"
   ]
  },
  {
   "cell_type": "markdown",
   "id": "56142a09",
   "metadata": {},
   "source": [
    "## Data preparation\n",
    "### baseline data"
   ]
  },
  {
   "cell_type": "code",
   "execution_count": null,
   "id": "cc9ed822",
   "metadata": {},
   "outputs": [],
   "source": [
    "df_base_pre = pd.read_csv('df_base_pre.csv', index_col = 0)\n",
    "df_base_pre"
   ]
  },
  {
   "cell_type": "code",
   "execution_count": null,
   "id": "ebe60899",
   "metadata": {},
   "outputs": [],
   "source": [
    "df_base_pre = df_base_pre.dropna()\n",
    "df_base_pre"
   ]
  },
  {
   "cell_type": "code",
   "execution_count": null,
   "id": "ce0bb294",
   "metadata": {},
   "outputs": [],
   "source": [
    "# 컬럼명이 yyyy-mm-dd hh:mm:ss 형식으로 되어있으므로 컬럼 이름을 yyyy-mm-dd로 변경\n",
    "new_column_names_with_dates = []\n",
    "for column_name in df_base_pre.columns:\n",
    "    # Check if the column name represents a date\n",
    "    try:\n",
    "        # Try converting the column name to a date, if possible, format it\n",
    "        date_only = pd.to_datetime(column_name).strftime('%Y-%m-%d')\n",
    "        new_column_names_with_dates.append(date_only)\n",
    "    except ValueError:\n",
    "        # If conversion fails, it's not a date column, keep it as is\n",
    "        new_column_names_with_dates.append(column_name)\n",
    "\n",
    "df_base_pre.columns = new_column_names_with_dates\n",
    "df_base_pre"
   ]
  },
  {
   "cell_type": "markdown",
   "id": "d3f1b282",
   "metadata": {},
   "source": [
    "### Our data"
   ]
  },
  {
   "cell_type": "code",
   "execution_count": null,
   "id": "46c88d82",
   "metadata": {},
   "outputs": [],
   "source": [
    "df_pre = pd.read_csv('df_pre.csv', index_col = 0)\n",
    "df_pre"
   ]
  },
  {
   "cell_type": "code",
   "execution_count": null,
   "id": "fc805dc8",
   "metadata": {},
   "outputs": [],
   "source": [
    "df_pre = df_pre.dropna()\n",
    "df_pre"
   ]
  },
  {
   "cell_type": "markdown",
   "id": "62503b5d",
   "metadata": {},
   "source": [
    "## Encoding\n",
    "### baseline data"
   ]
  },
  {
   "cell_type": "code",
   "execution_count": null,
   "id": "21a2adc4",
   "metadata": {},
   "outputs": [],
   "source": [
    "df_base_final = pd.get_dummies(df_base_pre)\n",
    "df_base_final"
   ]
  },
  {
   "cell_type": "markdown",
   "id": "ce9fd193",
   "metadata": {},
   "source": [
    "### Our data"
   ]
  },
  {
   "cell_type": "code",
   "execution_count": null,
   "id": "f6898d88",
   "metadata": {},
   "outputs": [],
   "source": [
    "df_pre_final = pd.get_dummies(df_pre)\n",
    "df_pre_final"
   ]
  },
  {
   "cell_type": "markdown",
   "id": "9b71a686",
   "metadata": {},
   "source": [
    "## baseline machine learning"
   ]
  },
  {
   "cell_type": "markdown",
   "id": "80f4df7b",
   "metadata": {},
   "source": [
    "### data splitting"
   ]
  },
  {
   "cell_type": "code",
   "execution_count": null,
   "id": "5059063a",
   "metadata": {},
   "outputs": [],
   "source": [
    "train = pd.read_csv('train.csv')\n",
    "train"
   ]
  },
  {
   "cell_type": "code",
   "execution_count": null,
   "id": "76ee3ce7",
   "metadata": {},
   "outputs": [],
   "source": [
    "X = df_base_final\n",
    "y = train.iloc[:, 6:]   # 날짜 데이터만 남기기\n",
    "\n",
    "X_train, X_test, y_train, y_test = train_test_split(X, y, test_size=0.2, random_state=15)\n",
    "\n",
    "print(X_train.shape, y_train.shape)\n",
    "print(X_test.shape, y_test.shape)"
   ]
  },
  {
   "cell_type": "code",
   "execution_count": null,
   "id": "ae0dfb6b",
   "metadata": {},
   "outputs": [],
   "source": [
    "# 샘플링용 데이터 분리\n",
    "np.random.seed(15)  # 결과의 재현성을 위해 시드 고정\n",
    "random_columns = np.random.choice(train.columns[6:], size=100, replace=False)\n",
    "\n",
    "# 선택된 컬럼에 해당하는 데이터만을 y 데이터로 사용\n",
    "y_random_sampled = train[random_columns]\n",
    "\n",
    "# 기존에 정의한 X(특성) 데이터 준비 (이전 단계에서 사용한 X_sampled 사용)\n",
    "# 훈련 데이터와 테스트 데이터로 분할\n",
    "X_train_random, X_test_random, y_train_random, y_test_random = train_test_split(X, y_random_sampled, test_size=0.2, random_state=15)\n",
    "\n",
    "print(X_train_random.shape, y_train_random.shape)\n",
    "print(X_test_random.shape, y_test_random.shape)"
   ]
  },
  {
   "cell_type": "markdown",
   "id": "e9bad006",
   "metadata": {},
   "source": [
    "### Linear Regression"
   ]
  },
  {
   "cell_type": "code",
   "execution_count": null,
   "id": "af4d57bb",
   "metadata": {},
   "outputs": [],
   "source": [
    "# 샘플링 데이터로 머신러닝\n",
    "model_lr.fit(X_train_random, y_train_random)\n",
    "pred = model_lr.predict(X_test_random)\n",
    "\n",
    "# 평가\n",
    "mse_lr = mean_squared_error(y_test_random, pred)\n",
    "rmse_lr = np.sqrt(mean_squared_error(y_test_random, pred))\n",
    "\n",
    "print(\"mse:\", mse_lr.round(2), \"\\nrmse:\", rmse_lr.round(2))"
   ]
  },
  {
   "cell_type": "code",
   "execution_count": null,
   "id": "094fd6c1",
   "metadata": {
    "scrolled": true
   },
   "outputs": [],
   "source": [
    "# 머신러닝\n",
    "model_lr.fit(X_train, y_train)\n",
    "pred = model_lr.predict(X_test)\n",
    "mean_squared_error(y_test, pred)\n",
    "\n",
    "# 평가\n",
    "mse = mean_squared_error(y_test, pred)\n",
    "rmse = np.sqrt(mean_squared_error(y_test, pred))\n",
    "\n",
    "print(\"mse:\", mse.round(2), \"\\nrmse:\", rmse.round(2))"
   ]
  },
  {
   "cell_type": "markdown",
   "id": "c5fa9586",
   "metadata": {},
   "source": [
    "### Ridge"
   ]
  },
  {
   "cell_type": "code",
   "execution_count": null,
   "id": "ef46cd8b",
   "metadata": {},
   "outputs": [],
   "source": [
    "# 샘플링 데이터로 머신러닝\n",
    "model_rg.fit(X_train_random, y_train_random)\n",
    "pred = model_rg.predict(X_test_random)\n",
    "\n",
    "# 평가\n",
    "mse_rg = mean_squared_error(y_test_random, pred)\n",
    "rmse_rg = np.sqrt(mean_squared_error(y_test_random, pred))\n",
    "\n",
    "print(\"mse:\", mse_rg.round(2), \"\\nrmse:\", rmse_rg.round(2))"
   ]
  },
  {
   "cell_type": "code",
   "execution_count": null,
   "id": "0bae20bd",
   "metadata": {},
   "outputs": [],
   "source": [
    "# 머신러닝\n",
    "model_rg.fit(X_train, y_train)\n",
    "pred = model_rg.predict(X_test)\n",
    "mean_squared_error(y_test, pred)\n",
    "\n",
    "# 평가\n",
    "mse = mean_squared_error(y_test, pred)\n",
    "rmse = np.sqrt(mean_squared_error(y_test, pred))\n",
    "\n",
    "print(\"mse:\", mse.round(2), \"\\nrmse:\", rmse.round(2))"
   ]
  },
  {
   "cell_type": "markdown",
   "id": "91b8fba0",
   "metadata": {},
   "source": [
    "### Lasso"
   ]
  },
  {
   "cell_type": "code",
   "execution_count": null,
   "id": "5bda1040",
   "metadata": {},
   "outputs": [],
   "source": [
    "# 샘플링 데이터로 머신러닝\n",
    "model_ls.fit(X_train_random, y_train_random)\n",
    "pred = model_ls.predict(X_test_random)\n",
    "\n",
    "# 평가\n",
    "mse_ls = mean_squared_error(y_test_random, pred)\n",
    "rmse_ls = np.sqrt(mean_squared_error(y_test_random, pred))\n",
    "\n",
    "print(\"mse:\", mse_ls.round(2), \"\\nrmse:\", rmse_ls.round(2))"
   ]
  },
  {
   "cell_type": "code",
   "execution_count": null,
   "id": "c3eb1547",
   "metadata": {},
   "outputs": [],
   "source": [
    "# 머신러닝\n",
    "model_ls.fit(X_train, y_train)\n",
    "pred = model_ls.predict(X_test)\n",
    "mean_squared_error(y_test, pred)\n",
    "\n",
    "# 평가\n",
    "mse = mean_squared_error(y_test, pred)\n",
    "rmse = np.sqrt(mean_squared_error(y_test, pred))\n",
    "\n",
    "print(\"mse:\", mse.round(2), \"\\nrmse:\", rmse.round(2))"
   ]
  },
  {
   "cell_type": "markdown",
   "id": "97929073",
   "metadata": {},
   "source": [
    "### ElasticNet"
   ]
  },
  {
   "cell_type": "code",
   "execution_count": null,
   "id": "e6a3eee2",
   "metadata": {},
   "outputs": [],
   "source": [
    "# 샘플링 데이터로 머신러닝\n",
    "model_en.fit(X_train_random, y_train_random)\n",
    "pred = model_en.predict(X_test_random)\n",
    "\n",
    "# 평가\n",
    "mse_en = mean_squared_error(y_test_random, pred)\n",
    "rmse_en = np.sqrt(mean_squared_error(y_test_random, pred))\n",
    "\n",
    "print(\"mse:\", mse_en.round(2), \"\\nrmse:\", rmse_en.round(2))"
   ]
  },
  {
   "cell_type": "code",
   "execution_count": null,
   "id": "def4f77d",
   "metadata": {},
   "outputs": [],
   "source": [
    "# 머신러닝\n",
    "model_en.fit(X_train, y_train)\n",
    "pred = model_en.predict(X_test)\n",
    "mean_squared_error(y_test, pred)\n",
    "\n",
    "# 평가\n",
    "mse = mean_squared_error(y_test, pred)\n",
    "rmse = np.sqrt(mean_squared_error(y_test, pred))\n",
    "\n",
    "print(\"mse:\", mse.round(2), \"\\nrmse:\", rmse.round(2))"
   ]
  },
  {
   "cell_type": "markdown",
   "id": "e7cd721b",
   "metadata": {},
   "source": [
    "### Random Forest"
   ]
  },
  {
   "cell_type": "code",
   "execution_count": null,
   "id": "3c7667ee",
   "metadata": {},
   "outputs": [],
   "source": [
    "# 샘플링 데이터로 머신러닝\n",
    "model_rf.fit(X_train_random, y_train_random)\n",
    "pred = model_rf.predict(X_test_random)\n",
    "\n",
    "# 평가\n",
    "mse_rf = mean_squared_error(y_test_random, pred)\n",
    "rmse_rf = np.sqrt(mean_squared_error(y_test_random, pred))\n",
    "\n",
    "print(\"mse:\", mse_rf.round(2), \"\\nrmse:\", rmse_rf.round(2))"
   ]
  },
  {
   "cell_type": "code",
   "execution_count": null,
   "id": "6ccf9aed",
   "metadata": {},
   "outputs": [],
   "source": [
    "# 머신러닝\n",
    "model_rf.fit(X_train, y_train)\n",
    "pred = model_rf.predict(X_test)\n",
    "mean_squared_error(y_test, pred)\n",
    "\n",
    "# 평가\n",
    "mse = mean_squared_error(y_test, pred)\n",
    "rmse = np.sqrt(mean_squared_error(y_test, pred))\n",
    "\n",
    "print(\"mse:\", mse.round(2), \"\\nrmse:\", rmse.round(2))"
   ]
  },
  {
   "cell_type": "markdown",
   "id": "663a7c42",
   "metadata": {},
   "source": [
    "### XGBoost"
   ]
  },
  {
   "cell_type": "code",
   "execution_count": null,
   "id": "94f8ce7e",
   "metadata": {},
   "outputs": [],
   "source": [
    "# 샘플링 데이터로 머신러닝\n",
    "model_xg.fit(X_train_random, y_train_random)\n",
    "pred = model_xg.predict(X_test_random)\n",
    "\n",
    "# 평가\n",
    "mse_xg = mean_squared_error(y_test_random, pred)\n",
    "rmse_xg = np.sqrt(mean_squared_error(y_test_random, pred))\n",
    "\n",
    "print(\"mse:\", mse_xg.round(2), \"\\nrmse:\", rmse_xg.round(2))"
   ]
  },
  {
   "cell_type": "code",
   "execution_count": null,
   "id": "be8788e6",
   "metadata": {},
   "outputs": [],
   "source": [
    "# 머신러닝\n",
    "model_xg.fit(X_train, y_train)\n",
    "pred = model_xg.predict(X_test)\n",
    "mean_squared_error(y_test, pred)\n",
    "\n",
    "# 평가\n",
    "mse = mean_squared_error(y_test, pred)\n",
    "rmse = np.sqrt(mean_squared_error(y_test, pred))\n",
    "\n",
    "print(\"mse:\", mse.round(2), \"\\nrmse:\", rmse.round(2))"
   ]
  },
  {
   "cell_type": "markdown",
   "id": "549bb7b7",
   "metadata": {},
   "source": [
    "## Our data machine learning"
   ]
  },
  {
   "cell_type": "markdown",
   "id": "f6c1fb6b",
   "metadata": {},
   "source": [
    "### data splitting"
   ]
  },
  {
   "cell_type": "code",
   "execution_count": null,
   "id": "6b810e41",
   "metadata": {},
   "outputs": [],
   "source": [
    "X = df_pre_final\n",
    "y = train.iloc[:, 6:]   # 날짜 데이터만 남기기\n",
    "\n",
    "X_train, X_test, y_train, y_test = train_test_split(X, y, test_size=0.2, random_state=15)\n",
    "\n",
    "print(X_train.shape, y_train.shape)\n",
    "print(X_test.shape, y_test.shape)"
   ]
  },
  {
   "cell_type": "code",
   "execution_count": null,
   "id": "f1fedd2b",
   "metadata": {},
   "outputs": [],
   "source": [
    "# 샘플링용 데이터 분리\n",
    "np.random.seed(15)  # 결과의 재현성을 위해 시드 고정\n",
    "random_columns = np.random.choice(train.columns[6:], size=100, replace=False)\n",
    "\n",
    "# 선택된 컬럼에 해당하는 데이터만을 y 데이터로 사용\n",
    "y_random_sampled = train[random_columns]\n",
    "\n",
    "# 기존에 정의한 X(특성) 데이터 준비 (이전 단계에서 사용한 X_sampled 사용)\n",
    "# 훈련 데이터와 테스트 데이터로 분할\n",
    "X_train_random, X_test_random, y_train_random, y_test_random = train_test_split(X, y_random_sampled, test_size=0.2, random_state=15)\n",
    "\n",
    "print(X_train_random.shape, y_train_random.shape)\n",
    "print(X_test_random.shape, y_test_random.shape)"
   ]
  },
  {
   "cell_type": "markdown",
   "id": "8b2fa6e8",
   "metadata": {},
   "source": [
    "### Linear Regression"
   ]
  },
  {
   "cell_type": "code",
   "execution_count": null,
   "id": "b40d676d",
   "metadata": {},
   "outputs": [],
   "source": [
    "# 샘플링 데이터로 머신러닝\n",
    "model_lr.fit(X_train_random, y_train_random)\n",
    "pred = model_lr.predict(X_test_random)\n",
    "\n",
    "# 평가\n",
    "mse_lr = mean_squared_error(y_test_random, pred)\n",
    "rmse_lr = np.sqrt(mean_squared_error(y_test_random, pred))\n",
    "\n",
    "print(\"mse:\", mse_lr.round(2), \"\\nrmse:\", rmse_lr.round(2))"
   ]
  },
  {
   "cell_type": "code",
   "execution_count": null,
   "id": "a857bfe9",
   "metadata": {
    "scrolled": true
   },
   "outputs": [],
   "source": [
    "# 머신러닝\n",
    "model_lr.fit(X_train, y_train)\n",
    "pred = model_lr.predict(X_test)\n",
    "mean_squared_error(y_test, pred)\n",
    "\n",
    "# 평가\n",
    "mse = mean_squared_error(y_test, pred)\n",
    "rmse = np.sqrt(mean_squared_error(y_test, pred))\n",
    "\n",
    "print(\"mse:\", mse.round(2), \"\\nrmse:\", rmse.round(2))"
   ]
  },
  {
   "cell_type": "markdown",
   "id": "b50e9ebb",
   "metadata": {},
   "source": [
    "### Ridge"
   ]
  },
  {
   "cell_type": "code",
   "execution_count": null,
   "id": "acb4b778",
   "metadata": {},
   "outputs": [],
   "source": [
    "# 샘플링 데이터로 머신러닝\n",
    "model_rg.fit(X_train_random, y_train_random)\n",
    "pred = model_rg.predict(X_test_random)\n",
    "\n",
    "# 평가\n",
    "mse_rg = mean_squared_error(y_test_random, pred)\n",
    "rmse_rg = np.sqrt(mean_squared_error(y_test_random, pred))\n",
    "\n",
    "print(\"mse:\", mse_rg.round(2), \"\\nrmse:\", rmse_rg.round(2))"
   ]
  },
  {
   "cell_type": "code",
   "execution_count": null,
   "id": "353ce870",
   "metadata": {},
   "outputs": [],
   "source": [
    "# 머신러닝\n",
    "model_rg.fit(X_train, y_train)\n",
    "pred = model_rg.predict(X_test)\n",
    "mean_squared_error(y_test, pred)\n",
    "\n",
    "# 평가\n",
    "mse = mean_squared_error(y_test, pred)\n",
    "rmse = np.sqrt(mean_squared_error(y_test, pred))\n",
    "\n",
    "print(\"mse:\", mse.round(2), \"\\nrmse:\", rmse.round(2))"
   ]
  },
  {
   "cell_type": "markdown",
   "id": "563c4f2d",
   "metadata": {},
   "source": [
    "### Lasso"
   ]
  },
  {
   "cell_type": "code",
   "execution_count": null,
   "id": "06516d81",
   "metadata": {},
   "outputs": [],
   "source": [
    "# 샘플링 데이터로 머신러닝\n",
    "model_ls.fit(X_train_random, y_train_random)\n",
    "pred = model_ls.predict(X_test_random)\n",
    "\n",
    "# 평가\n",
    "mse_ls = mean_squared_error(y_test_random, pred)\n",
    "rmse_ls = np.sqrt(mean_squared_error(y_test_random, pred))\n",
    "\n",
    "print(\"mse:\", mse_ls.round(2), \"\\nrmse:\", rmse_ls.round(2))"
   ]
  },
  {
   "cell_type": "code",
   "execution_count": null,
   "id": "06e4b4d6",
   "metadata": {},
   "outputs": [],
   "source": [
    "# 머신러닝\n",
    "model_ls.fit(X_train, y_train)\n",
    "pred = model_ls.predict(X_test)\n",
    "mean_squared_error(y_test, pred)\n",
    "\n",
    "# 평가\n",
    "mse = mean_squared_error(y_test, pred)\n",
    "rmse = np.sqrt(mean_squared_error(y_test, pred))\n",
    "\n",
    "print(\"mse:\", mse.round(2), \"\\nrmse:\", rmse.round(2))"
   ]
  },
  {
   "cell_type": "markdown",
   "id": "10187c91",
   "metadata": {},
   "source": [
    "### ElasticNet"
   ]
  },
  {
   "cell_type": "code",
   "execution_count": null,
   "id": "f71011ef",
   "metadata": {},
   "outputs": [],
   "source": [
    "# 샘플링 데이터로 머신러닝\n",
    "model_en.fit(X_train_random, y_train_random)\n",
    "pred = model_en.predict(X_test_random)\n",
    "\n",
    "# 평가\n",
    "mse_en = mean_squared_error(y_test_random, pred)\n",
    "rmse_en = np.sqrt(mean_squared_error(y_test_random, pred))\n",
    "\n",
    "print(\"mse:\", mse_en.round(2), \"\\nrmse:\", rmse_en.round(2))"
   ]
  },
  {
   "cell_type": "code",
   "execution_count": null,
   "id": "8748edbd",
   "metadata": {},
   "outputs": [],
   "source": [
    "# 머신러닝\n",
    "model_en.fit(X_train, y_train)\n",
    "pred = model_en.predict(X_test)\n",
    "mean_squared_error(y_test, pred)\n",
    "\n",
    "# 평가\n",
    "mse = mean_squared_error(y_test, pred)\n",
    "rmse = np.sqrt(mean_squared_error(y_test, pred))\n",
    "\n",
    "print(\"mse:\", mse.round(2), \"\\nrmse:\", rmse.round(2))"
   ]
  },
  {
   "cell_type": "markdown",
   "id": "fd477683",
   "metadata": {},
   "source": [
    "### Random Forest"
   ]
  },
  {
   "cell_type": "code",
   "execution_count": null,
   "id": "6942da4d",
   "metadata": {},
   "outputs": [],
   "source": [
    "# 샘플링 데이터로 머신러닝\n",
    "model_rf.fit(X_train_random, y_train_random)\n",
    "pred = model_rf.predict(X_test_random)\n",
    "\n",
    "# 평가\n",
    "mse_rf = mean_squared_error(y_test_random, pred)\n",
    "rmse_rf = np.sqrt(mean_squared_error(y_test_random, pred))\n",
    "\n",
    "print(\"mse:\", mse_rf.round(2), \"\\nrmse:\", rmse_rf.round(2))"
   ]
  },
  {
   "cell_type": "code",
   "execution_count": null,
   "id": "8767c70d",
   "metadata": {},
   "outputs": [],
   "source": [
    "# 머신러닝\n",
    "model_rf.fit(X_train, y_train)\n",
    "pred = model_rf.predict(X_test)\n",
    "mean_squared_error(y_test, pred)\n",
    "\n",
    "# 평가\n",
    "mse = mean_squared_error(y_test, pred)\n",
    "rmse = np.sqrt(mean_squared_error(y_test, pred))\n",
    "\n",
    "print(\"mse:\", mse.round(2), \"\\nrmse:\", rmse.round(2))"
   ]
  },
  {
   "cell_type": "markdown",
   "id": "46c7cae2",
   "metadata": {},
   "source": [
    "### XGBoost"
   ]
  },
  {
   "cell_type": "code",
   "execution_count": null,
   "id": "c12acbf4",
   "metadata": {},
   "outputs": [],
   "source": [
    "# 샘플링 데이터로 머신러닝\n",
    "model_xg.fit(X_train_random, y_train_random)\n",
    "pred = model_xg.predict(X_test_random)\n",
    "\n",
    "# 평가\n",
    "mse_xg = mean_squared_error(y_test_random, pred)\n",
    "rmse_xg = np.sqrt(mean_squared_error(y_test_random, pred))\n",
    "\n",
    "print(\"mse:\", mse_xg.round(2), \"\\nrmse:\", rmse_xg.round(2))"
   ]
  },
  {
   "cell_type": "code",
   "execution_count": null,
   "id": "a58ad184",
   "metadata": {},
   "outputs": [],
   "source": [
    "# 머신러닝\n",
    "model_xg.fit(X_train, y_train)\n",
    "pred = model_xg.predict(X_test)\n",
    "mean_squared_error(y_test, pred)\n",
    "\n",
    "# 평가\n",
    "mse = mean_squared_error(y_test, pred)\n",
    "rmse = np.sqrt(mean_squared_error(y_test, pred))\n",
    "\n",
    "print(\"mse:\", mse.round(2), \"\\nrmse:\", rmse.round(2))"
   ]
  },
  {
   "cell_type": "code",
   "execution_count": null,
   "id": "9d797371",
   "metadata": {},
   "outputs": [],
   "source": []
  },
  {
   "cell_type": "markdown",
   "id": "1810766f",
   "metadata": {},
   "source": [
    "df_pre_final도 컬럼이 거의 100개에 가까워서 차원의 저주에 빠질 확률이 높음...\n",
    "관련해서 elbow graph 그리고 PCA까지 진행해보면 좋을 것 같지만...과연?"
   ]
  }
 ],
 "metadata": {
  "kernelspec": {
   "display_name": "Python 3 (ipykernel)",
   "language": "python",
   "name": "python3"
  },
  "language_info": {
   "codemirror_mode": {
    "name": "ipython",
    "version": 3
   },
   "file_extension": ".py",
   "mimetype": "text/x-python",
   "name": "python",
   "nbconvert_exporter": "python",
   "pygments_lexer": "ipython3",
   "version": "3.11.5"
  },
  "toc": {
   "base_numbering": 1,
   "nav_menu": {},
   "number_sections": true,
   "sideBar": true,
   "skip_h1_title": false,
   "title_cell": "Table of Contents",
   "title_sidebar": "Contents",
   "toc_cell": false,
   "toc_position": {},
   "toc_section_display": true,
   "toc_window_display": false
  }
 },
 "nbformat": 4,
 "nbformat_minor": 5
}
